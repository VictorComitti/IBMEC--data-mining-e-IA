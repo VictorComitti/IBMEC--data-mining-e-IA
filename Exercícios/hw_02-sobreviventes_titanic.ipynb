{
  "cells": [
    {
      "cell_type": "raw",
      "metadata": {},
      "source": [
        "---\n",
        "title: \"hw_02: Sobreviventes do Titanic\"\n",
        "author: \"Victor Schmidt Comitti\"\n",
        "format: html\n",
        "editor: visual\n",
        "---"
      ],
      "id": "57098bc6"
    },
    {
      "cell_type": "markdown",
      "metadata": {},
      "source": [
        "# Exercício: Análise de Sobrevivência de Passageiros do Titanic\n",
        "\n",
        "Neste exercício, você aplicará conceitos de probabilidade condicional e o teorema de Bayes, utilizando a base de dados real do Titanic.\n",
        "\n",
        "## Tarefas\n",
        "\n",
        "1. **Importe a base de dados**: Carregue a base de dados do Titanic, que contém informações sobre passageiros, como classe, sexo, idade e se sobreviveram ou não ao naufrágio.\n",
        "   \n",
        "2. **Calcule as probabilidades marginais e condicionais**:\n",
        "   - Qual a probabilidade de uma pessoa ter sobrevivido?\n",
        "   - Qual a probabilidade de uma pessoa ter sobrevivido, dado que era mulher?\n",
        "   - Qual a probabilidade de uma pessoa ter sobrevivido, dado que estava na primeira classe?\n",
        "   \n",
        "3. **Teorema de Bayes**:\n",
        "   - Usando o teorema de Bayes, calcule a probabilidade de um passageiro estar na primeira classe, dado que ele sobreviveu.\n",
        "\n",
        "4. **Visualização**:\n",
        "   - Crie gráficos para visualizar a distribuição de sobreviventes por sexo e por classe.\n",
        "\n",
        "## Código de início em Python\n"
      ],
      "id": "e600b67e"
    },
    {
      "cell_type": "code",
      "metadata": {},
      "source": [
        "import seaborn as sns\n",
        "import pandas as pd\n",
        "\n",
        "# Carregar a base de dados do Titanic\n",
        "titanic_data = sns.load_dataset('titanic')\n",
        "\n",
        "# Visualizar os primeiros dados\n",
        "print(titanic_data.head())\n",
        "\n",
        "# Calcular a probabilidade de sobrevivência\n",
        "p_survived = titanic_data['survived'].mean()\n",
        "print(f'Probabilidade de sobreviver: {p_survived:.2f}')\n",
        "\n",
        "# Calcular a probabilidade condicional de sobreviver, dado que era mulher\n",
        "p_survived_given_female = titanic_data[titanic_data['sex'] == 'female']['survived'].mean()\n",
        "print(f'Probabilidade de sobreviver sendo mulher: {p_survived_given_female:.2f}')\n",
        "\n",
        "# Probabilidade de sobreviver na primeira classe\n",
        "p_survived_given_first_class = titanic_data[titanic_data['class'] == 'First']['survived'].mean()\n",
        "print(f'Probabilidade de sobreviver na primeira classe: {p_survived_given_first_class:.2f}')\n",
        "\n",
        "# Aplicação do Teorema de Bayes\n",
        "p_first_class = (titanic_data['class'] == 'First').mean()\n",
        "p_survived_and_first_class = titanic_data[(titanic_data['class'] == 'First') & (titanic_data['survived'] == 1)].shape[0] / titanic_data.shape[0]\n",
        "p_first_class_given_survived = p_survived_and_first_class / p_survived\n",
        "print(f'Probabilidade de estar na primeira classe dado que sobreviveu: {p_first_class_given_survived:.2f}')"
      ],
      "id": "81070fc9",
      "execution_count": null,
      "outputs": []
    }
  ],
  "metadata": {
    "kernelspec": {
      "name": "python3",
      "language": "python",
      "display_name": "Python 3 (ipykernel)"
    }
  },
  "nbformat": 4,
  "nbformat_minor": 5
}