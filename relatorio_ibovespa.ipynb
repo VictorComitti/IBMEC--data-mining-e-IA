{
  "nbformat": 4,
  "nbformat_minor": 0,
  "metadata": {
    "colab": {
      "provenance": [],
      "authorship_tag": "ABX9TyPE0YC+mrCBqU8Nq4Lo302L",
      "include_colab_link": true
    },
    "kernelspec": {
      "name": "python3",
      "display_name": "Python 3"
    },
    "language_info": {
      "name": "python"
    }
  },
  "cells": [
    {
      "cell_type": "markdown",
      "metadata": {
        "id": "view-in-github",
        "colab_type": "text"
      },
      "source": [
        "<a href=\"https://colab.research.google.com/github/VictorComitti/IBMEC--data-mining-e-IA/blob/main/relatorio_ibovespa.ipynb\" target=\"_parent\"><img src=\"https://colab.research.google.com/assets/colab-badge.svg\" alt=\"Open In Colab\"/></a>"
      ]
    },
    {
      "cell_type": "code",
      "source": [
        "Carregando a série de retornos do Ibovespa"
      ],
      "metadata": {
        "id": "0FwpR9MkCspQ"
      },
      "execution_count": null,
      "outputs": []
    },
    {
      "cell_type": "markdown",
      "source": [],
      "metadata": {
        "id": "pRwnBaVqCr7D"
      }
    },
    {
      "cell_type": "code",
      "execution_count": 1,
      "metadata": {
        "colab": {
          "base_uri": "https://localhost:8080/"
        },
        "id": "eKeS5iLJCgNz",
        "outputId": "b8b70881-5a5a-4e0c-dccf-05817fdce0ab"
      },
      "outputs": [
        {
          "output_type": "stream",
          "name": "stderr",
          "text": [
            "\r[*********************100%***********************]  1 of 1 completed"
          ]
        },
        {
          "output_type": "stream",
          "name": "stdout",
          "text": [
            "Price                       Date    Close   retorno\n",
            "Ticker                              ^BVSP          \n",
            "1      2017-01-03 00:00:00+00:00  61814.0  3.733911\n",
            "2      2017-01-04 00:00:00+00:00  61589.0 -0.363995\n",
            "3      2017-01-05 00:00:00+00:00  62071.0  0.782607\n",
            "4      2017-01-06 00:00:00+00:00  61665.0 -0.654090\n",
            "5      2017-01-09 00:00:00+00:00  61700.0  0.056758\n"
          ]
        },
        {
          "output_type": "stream",
          "name": "stderr",
          "text": [
            "\n"
          ]
        }
      ],
      "source": [
        "import pandas as pd\n",
        "import yfinance as yf\n",
        "\n",
        "ibovespa_data = yf.download('^BVSP', start='2017-01-01')\n",
        "\n",
        "ibovespa_data = ibovespa_data[['Close']].copy()\n",
        "ibovespa_data['retorno'] = ibovespa_data['Close'].pct_change() * 100\n",
        "\n",
        "ibovespa_data = ibovespa_data.reset_index()\n",
        "\n",
        "ibovespa_data = ibovespa_data.dropna()\n",
        "\n",
        "print(ibovespa_data.head())"
      ]
    },
    {
      "cell_type": "markdown",
      "source": [],
      "metadata": {
        "id": "WmRBOzb6C0gs"
      }
    },
    {
      "cell_type": "code",
      "source": [],
      "metadata": {
        "id": "sFMm3HBEC0ND"
      },
      "execution_count": null,
      "outputs": []
    }
  ]
}