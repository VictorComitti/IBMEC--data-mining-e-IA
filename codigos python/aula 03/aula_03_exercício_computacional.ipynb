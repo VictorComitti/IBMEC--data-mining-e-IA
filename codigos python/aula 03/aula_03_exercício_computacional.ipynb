{
  "nbformat": 4,
  "nbformat_minor": 0,
  "metadata": {
    "colab": {
      "provenance": [],
      "authorship_tag": "ABX9TyPDKupYltphRwJg9dGsflxn",
      "include_colab_link": true
    },
    "kernelspec": {
      "name": "python3",
      "display_name": "Python 3"
    },
    "language_info": {
      "name": "python"
    }
  },
  "cells": [
    {
      "cell_type": "markdown",
      "metadata": {
        "id": "view-in-github",
        "colab_type": "text"
      },
      "source": [
        "<a href=\"https://colab.research.google.com/github/VictorComitti/IBMEC--data-mining-e-IA/blob/main/codigos%20python/aula%2003/aula_03_exerc%C3%ADcio_computacional.ipynb\" target=\"_parent\"><img src=\"https://colab.research.google.com/assets/colab-badge.svg\" alt=\"Open In Colab\"/></a>"
      ]
    },
    {
      "cell_type": "code",
      "source": [
        "import numpy as np\n",
        "from scipy.stats import binom"
      ],
      "metadata": {
        "id": "uUKObiUF2kwz"
      },
      "execution_count": 2,
      "outputs": []
    },
    {
      "cell_type": "markdown",
      "source": [
        "Probabilidade de ganhar 4 e 10 vezes seguidas considerando p = 0.5"
      ],
      "metadata": {
        "id": "KjR2t1s22oZh"
      }
    },
    {
      "cell_type": "code",
      "source": [
        "p_4 = 0.5**4\n",
        "p_10 = 0.5**10\n",
        "print(p_4, p_10)\n"
      ],
      "metadata": {
        "colab": {
          "base_uri": "https://localhost:8080/"
        },
        "id": "iU1tAH1R2pM6",
        "outputId": "d1afa9a1-2377-4285-d4b6-ce91b38fc1b6"
      },
      "execution_count": 5,
      "outputs": [
        {
          "output_type": "stream",
          "name": "stdout",
          "text": [
            "0.0625 0.0009765625\n"
          ]
        }
      ]
    },
    {
      "cell_type": "markdown",
      "source": [
        "Distribuição binomial com n = 20 e p = 0.5"
      ],
      "metadata": {
        "id": "-B4J-q6a20ri"
      }
    },
    {
      "cell_type": "code",
      "source": [
        "np.random.seed(10012024)\n",
        "\n",
        "n = 20\n",
        "p = 0.5\n",
        "x = 10\n",
        "\n",
        "prob_teorica_10_vitorias = binom.pmf(x, n, p)\n",
        "print(prob_teorica_10_vitorias)"
      ],
      "metadata": {
        "colab": {
          "base_uri": "https://localhost:8080/"
        },
        "id": "JOyIngSl232S",
        "outputId": "7049d211-9d65-45bf-af6e-ff30ea7795e1"
      },
      "execution_count": 7,
      "outputs": [
        {
          "output_type": "stream",
          "name": "stdout",
          "text": [
            "0.17619705200195296\n"
          ]
        }
      ]
    },
    {
      "cell_type": "markdown",
      "source": [
        "Probabilidade empírica"
      ],
      "metadata": {
        "id": "ImNKBPgG366y"
      }
    },
    {
      "cell_type": "code",
      "source": [
        "sample_binom = np.random.binomial(n, p, 10000000)\n",
        "prob_empirica = np.sum(sample_binom == 10) / 10000000\n",
        "print(prob_empirica)"
      ],
      "metadata": {
        "colab": {
          "base_uri": "https://localhost:8080/"
        },
        "id": "7muA4xkD39Cq",
        "outputId": "020198b3-d214-4ff2-cffd-185bcdb661ce"
      },
      "execution_count": 8,
      "outputs": [
        {
          "output_type": "stream",
          "name": "stdout",
          "text": [
            "0.1762201\n"
          ]
        }
      ]
    },
    {
      "cell_type": "markdown",
      "source": [
        "Exercicio anterior com p = 0.4864"
      ],
      "metadata": {
        "id": "FxwC9b0E4Pyy"
      }
    },
    {
      "cell_type": "code",
      "source": [
        "n = 20\n",
        "p = 0.4864\n",
        "x = 10\n",
        "\n",
        "prob_teorica_10_vitorias = binom.pmf(x, n, p)\n",
        "\n",
        "print(prob_teorica_10_vitorias)"
      ],
      "metadata": {
        "colab": {
          "base_uri": "https://localhost:8080/"
        },
        "id": "5EoGeEWv4QwJ",
        "outputId": "6eb90a4a-3b66-4bcd-aef0-6ebb8108d82c"
      },
      "execution_count": 10,
      "outputs": [
        {
          "output_type": "stream",
          "name": "stdout",
          "text": [
            "0.17489780715154432\n"
          ]
        }
      ]
    },
    {
      "cell_type": "markdown",
      "source": [
        " Probabilidade empírica"
      ],
      "metadata": {
        "id": "YxX-1URx4fja"
      }
    },
    {
      "cell_type": "code",
      "source": [
        "sample_binom = np.random.binomial(n, p, 1000000)\n",
        "prob_empirica = np.sum(sample_binom == 10) / 1000000\n",
        "\n",
        "print(prob_empirica)"
      ],
      "metadata": {
        "colab": {
          "base_uri": "https://localhost:8080/"
        },
        "id": "bMzA7aDy4i1B",
        "outputId": "175a2071-90d1-4b5d-b4b5-18e9ad35723c"
      },
      "execution_count": 11,
      "outputs": [
        {
          "output_type": "stream",
          "name": "stdout",
          "text": [
            "0.175458\n"
          ]
        }
      ]
    },
    {
      "cell_type": "markdown",
      "source": [
        "Para o jogador ter mais dinheiro ao final de 30 rodadas do que tinha no início,\n",
        " ele deve ganhar mais do que perder. Portanto, devemos calcular a probabilidade de a pessoa ganhar pelo menos 16 das 30 rodadas. Ou seja, queremos P(X >= 16)"
      ],
      "metadata": {
        "id": "Q1mZIGqT4z-Z"
      }
    },
    {
      "cell_type": "code",
      "execution_count": 13,
      "metadata": {
        "colab": {
          "base_uri": "https://localhost:8080/"
        },
        "id": "22bqDD-n2h76",
        "outputId": "d16b948b-e2d2-4b25-d9bf-87a1346eba21"
      },
      "outputs": [
        {
          "output_type": "stream",
          "name": "stdout",
          "text": [
            "0.42776777595281607\n",
            "0.427991\n"
          ]
        }
      ],
      "source": [
        "\n",
        "\n",
        "prob_teorica_16 = binom.sf(15, 30, 0.5)  # soma da cauda direita para incluir 16\n",
        "\n",
        "# Cálculo empírico\n",
        "n = 30\n",
        "p = 0.5\n",
        "\n",
        "sample_binom_30 = np.random.binomial(n, p, 1000000)\n",
        "prob_empirica_16 = np.sum(sample_binom_30 >= 16) / 1000000\n",
        "\n",
        "print(prob_teorica_16)\n",
        "print(prob_empirica_16)\n"
      ]
    }
  ]
}